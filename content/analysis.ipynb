{
 "cells": [
  {
   "cell_type": "code",
   "execution_count": null,
   "id": "1c322957-769c-4343-8550-666e14bb118e",
   "metadata": {
    "tags": []
   },
   "outputs": [],
   "source": [
    "import numpy as np\n",
    "import pandas as pd\n",
    "import plotly.express as px\n",
    "from scipy.stats import pearsonr, spearmanr\n",
    "import math\n",
    "import plotly.io as pio\n",
    "import plotly.graph_objects as go\n",
    "\n",
    "pio.renderers.default = \"plotly_mimetype\"\n",
    "# Seed for reproducibility\n",
    "np.random.seed(42)\n",
    "\n",
    "# Number of datapoints for each scatter plot\n",
    "n_points = 400\n",
    "\n",
    "# Function to generate synthetic data for brain volume vs. cognitive performance\n",
    "def generate_synthetic_data(volume_mean, volume_std, score_mean, score_std, correlation, n_points):\n",
    "    volume = np.random.normal(volume_mean, volume_std, n_points)\n",
    "    volume_jitter = np.random.normal(0, volume_std * 1.5, n_points)  # Add jitter to volume\n",
    "    noise = np.random.normal(0, score_std * 20.5, n_points)  # Increase noise for jitter in score\n",
    "    score = score_mean + correlation * (volume - volume_mean) + noise\n",
    "    return volume + volume_jitter, score\n",
    "\n",
    "# Function to generate additional metrics\n",
    "def generate_additional_metrics(volume, score, volume_std, score_std, n_points):\n",
    "    # Hypothetical Brain Density: Based on volume with added noise\n",
    "    density = volume / (volume_std * np.random.uniform(0.8, 1.2, n_points))\n",
    "    \n",
    "    # Hypothetical Neural Efficiency: Positively correlated with score but with noise\n",
    "    efficiency = np.sin(score) / (score_std * np.random.uniform(20, 1.7, n_points))\n",
    "    \n",
    "    return density, efficiency\n",
    "\n",
    "# Generate synthetic data for 10 scatter plots\n",
    "data_dict = {}\n",
    "\n",
    "# Scatter plot 1: Hippocampus Volume vs. Memory Score\n",
    "data_dict[\"Hippocampus_Memory\"] = generate_synthetic_data(500, 6500, 50, 20, 0.25, n_points)\n",
    "\n",
    "df_dict = {key: pd.DataFrame({'Volume': value[0], 'Score': value[1]}) for key, value in data_dict.items()}\n",
    "\n",
    "# Apply additional metrics to all regions\n",
    "for key, df in df_dict.items():\n",
    "    volume_std = np.std(df['Volume'])\n",
    "    score_std = np.std(df['Score'])\n",
    "    \n",
    "    # Generate new metrics for Brain Density and Neural Efficiency\n",
    "    density, efficiency = generate_additional_metrics(df['Volume'], df['Score'], volume_std, score_std, n_points)\n",
    "    \n",
    "    # Add the new metrics to the DataFrame\n",
    "    df['Density'] = density\n",
    "    df['Efficiency'] = efficiency\n",
    "\n",
    "def plot_correlation(df_dict, key, x_col, y_col, title_prefix, color='blue', marker_size=10, marker_opacity=0.7):\n",
    "    df = df_dict[key]\n",
    "    \n",
    "    # Calculate Spearman correlation\n",
    "    corr, _ = spearmanr(df[x_col], df[y_col])\n",
    "    \n",
    "    # Create scatter plot with customized marker colors, size, and opacity\n",
    "    fig = px.scatter(\n",
    "        df, \n",
    "        x=x_col, \n",
    "        y=y_col, \n",
    "        title=f'{title_prefix} (Spearman: {corr:.2f})', \n",
    "        trendline='ols',\n",
    "        color_discrete_sequence=[color]  # Custom marker color,\n",
    "    )\n",
    "    \n",
    "    # Update marker style\n",
    "    fig.update_traces(marker=dict(size=marker_size, opacity=marker_opacity))\n",
    "    \n",
    "    # Update figure layout\n",
    "    fig.update_layout(height=600)\n",
    "    \n",
    "    return fig\n"
   ]
  },
  {
   "cell_type": "code",
   "execution_count": null,
   "id": "0dc1aeae-9824-4f8e-8b52-a81b4dd66e67",
   "metadata": {
    "tags": []
   },
   "outputs": [],
   "source": [
    "#| label: fig1cell\n",
    "\n",
    "fig1 = plot_correlation(df_dict, \"Hippocampus_Memory\", 'Volume', 'Score', 'Hippocampus', color='blue', marker_size=10, marker_opacity=0.7)\n",
    "fig1.show()"
   ]
  },
  {
   "cell_type": "code",
   "execution_count": null,
   "id": "625dffd1-f9d5-43f1-abcb-2356485d8d90",
   "metadata": {
    "tags": []
   },
   "outputs": [],
   "source": [
    "#| label: fig2cell\n",
    "\n",
    "fig2 = plot_correlation(df_dict, \"Hippocampus_Memory\", 'Density', 'Score', 'Hippocampus', color='red', marker_size=10, marker_opacity=0.7)\n",
    "fig2.show()"
   ]
  },
  {
   "cell_type": "code",
   "execution_count": null,
   "id": "a44330e5-515f-4faa-858c-3d8e1cf51f0c",
   "metadata": {
    "tags": []
   },
   "outputs": [],
   "source": [
    "#| label: fig3cell\n",
    "\n",
    "fig3 = plot_correlation(df_dict, \"Hippocampus_Memory\", 'Efficiency', 'Score', 'Hippocampus', color=\"green\", marker_size=10, marker_opacity=0.7)\n",
    "fig3.show()\n"
   ]
  }
 ],
 "metadata": {
  "kernelspec": {
   "display_name": "Python 3 (ipykernel)",
   "language": "python",
   "name": "python3"
  },
  "language_info": {
   "codemirror_mode": {
    "name": "ipython",
    "version": 3
   },
   "file_extension": ".py",
   "mimetype": "text/x-python",
   "name": "python",
   "nbconvert_exporter": "python",
   "pygments_lexer": "ipython3",
   "version": "3.10.4"
  }
 },
 "nbformat": 4,
 "nbformat_minor": 5
}
